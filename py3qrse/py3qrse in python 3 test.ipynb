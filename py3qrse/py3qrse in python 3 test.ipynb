{
 "cells": [
  {
   "cell_type": "code",
   "execution_count": 1,
   "metadata": {},
   "outputs": [
    {
     "name": "stdout",
     "output_type": "stream",
     "text": [
      "/Users/keithblackwell1/Documents/GoogStudy/py3qrse\n"
     ]
    }
   ],
   "source": [
    "import pandas as pd\n",
    "from pandas import Series, DataFrame\n",
    "import numpy as np\n",
    "import scipy as sp\n",
    "%matplotlib inline\n",
    "import matplotlib.pyplot as plt\n",
    "import seaborn as sns; sns.set()\n",
    "import csv\n",
    "from tabulate import tabulate\n",
    "from IPython.display import Latex \n",
    "Latex('your formatted latex string here') \n",
    "import copy\n",
    "import csv\n",
    "from collections import defaultdict\n",
    "import datetime\n",
    "\n",
    "import os\n",
    "os.chdir(\"/Users/keithblackwell1/Documents/GoogStudy/py3qrse\")\n",
    "print(os.getcwd())\n",
    "from tqdm import tqdm\n",
    "from importlib import reload"
   ]
  },
  {
   "cell_type": "code",
   "execution_count": 2,
   "metadata": {},
   "outputs": [
    {
     "data": {
      "text/plain": [
       "<module 'py3qrse' from '/Users/keithblackwell1/Documents/GoogStudy/py3qrse/py3qrse/__init__.py'>"
      ]
     },
     "execution_count": 2,
     "metadata": {},
     "output_type": "execute_result"
    }
   ],
   "source": [
    "import py3qrse as pq\n",
    "import py3qrse\n",
    "reload(pq)\n"
   ]
  },
  {
   "cell_type": "code",
   "execution_count": 3,
   "metadata": {},
   "outputs": [],
   "source": [
    "nasdaq = pd.read_csv('../pyqrse/nasdaq.csv', index_col=0)\n",
    "nas_close = nasdaq.iloc[:, 0]\n",
    "nas_p_change = nas_close.diff(44).dropna()/nas_close.iloc[:-44].values\n",
    "nas_dif_log = nas_close.apply(np.log).diff(44).dropna()"
   ]
  },
  {
   "cell_type": "code",
   "execution_count": 4,
   "metadata": {},
   "outputs": [
    {
     "data": {
      "text/plain": [
       "(3821,)"
      ]
     },
     "execution_count": 4,
     "metadata": {},
     "output_type": "execute_result"
    }
   ],
   "source": [
    "lognas = nasdaq.iloc[:, 0].apply(np.log)\n",
    "lognas = lognas[:]\n",
    "lognas.shape"
   ]
  },
  {
   "cell_type": "code",
   "execution_count": 5,
   "metadata": {},
   "outputs": [],
   "source": [
    "data = lognas.diff().dropna().values.copy()"
   ]
  },
  {
   "cell_type": "code",
   "execution_count": 6,
   "metadata": {},
   "outputs": [
    {
     "data": {
      "text/plain": [
       "Text(0.5, 1.0, 'Daily Adjusted NASDAQ Returns: 2003-2017')"
      ]
     },
     "execution_count": 6,
     "metadata": {},
     "output_type": "execute_result"
    },
    {
     "data": {
      "image/png": "[encoded data removed]",
      "text/plain": [
       "<Figure size 432x288 with 1 Axes>"
      ]
     },
     "metadata": {},
     "output_type": "display_data"
    }
   ],
   "source": [
    "md = data.mean()\n",
    "sd = data.std()\n",
    "\n",
    "# data = data[(data>md-4.5*sd)&(data<md+4.5*sd)]\n",
    "sns.distplot(data)\n",
    "plt.title(\"Daily Adjusted NASDAQ Returns: 2003-2017\")"
   ]
  },
  {
   "cell_type": "code",
   "execution_count": 7,
   "metadata": {},
   "outputs": [],
   "source": [
    "datanorm = (data-data.mean())/data.std()\n",
    "std = data.std()"
   ]
  },
  {
   "cell_type": "code",
   "execution_count": 8,
   "metadata": {},
   "outputs": [
    {
     "name": "stdout",
     "output_type": "stream",
     "text": [
      "5023.117854462552\n",
      "-11558.96310098962\n",
      "5023.11785446256\n",
      "-11558.963100998755\n",
      "0.4249062837495627\n",
      "1.133173689723942\n",
      "\n",
      "0.4249052044724265\n",
      "6679.091957490563\n",
      "\n",
      "0.4249063208759842\n",
      "1.1331736165913069\n",
      "\n",
      "0.4249062086260359\n",
      "1.133173445256564\n"
     ]
    }
   ],
   "source": [
    "\n",
    "method = 'CG'\n",
    "use_jac = True\n",
    "model= 'S'\n",
    "\n",
    "qq = pq.QRSE(model, datanorm, iticks=10000)\n",
    "qq.fit(method=method, use_jac=use_jac)\n",
    "# qq.res\n",
    "print(qq.res.fun)\n",
    "\n",
    "# qq3= QRSE('S', datanorm, iticks=10000)\n",
    "# qq3.fit(method=method, use_jac=use_jac)\n",
    "# # qq.res\n",
    "# print qq3.res.fun\n",
    "\n",
    "qq2= pq.QRSE(model, data, iticks=10000)\n",
    "qq2.fit(method=method, use_jac=use_jac)\n",
    "# qq2.res\n",
    "print(qq2.res.fun)\n",
    "\n",
    "qq3= pq.QRSE(model, datanorm, iticks=10000)\n",
    "qq3.fit(method='BFGS', use_jac=False)\n",
    "# qq.res\n",
    "print(qq3.res.fun)\n",
    "\n",
    "qq4= pq.QRSE(model, data, iticks=10000)\n",
    "qq4.fit(method='BFGS', use_jac=False)\n",
    "# qq.res\n",
    "print(qq4.res.fun)\n",
    "\n",
    "\n",
    "\n",
    "print(qq.params[0])\n",
    "print(qq.params[1])\n",
    "try: \n",
    "    print(qq.params[3])\n",
    "#     print qq.params[4]\n",
    "except:\n",
    "    pass\n",
    "print() \n",
    "print(qq2.params[0]/std)\n",
    "print(qq2.params[1]/std)\n",
    "try: \n",
    "    \n",
    "    print(qq2.params[4]*std)\n",
    "except: \n",
    "    pass\n",
    "\n",
    "print() \n",
    "print(qq3.params[0])\n",
    "print(qq3.params[1])\n",
    "try:  \n",
    "    print(qq3.params[3])\n",
    "except: \n",
    "    pass\n",
    "\n",
    "print() \n",
    "print(qq4.params[0]/std)\n",
    "print(qq4.params[1]*std)\n",
    "try: \n",
    "    \n",
    "    print(qq4.params[3]*std)\n",
    "except: \n",
    "    pass"
   ]
  },
  {
   "cell_type": "code",
   "execution_count": 13,
   "metadata": {},
   "outputs": [
    {
     "name": "stdout",
     "output_type": "stream",
     "text": [
      "True 5013.6685164835\n",
      "True 5023.11785446255\n",
      "CPU times: user 251 ms, sys: 15.6 ms, total: 267 ms\n",
      "Wall time: 268 ms\n"
     ]
    }
   ],
   "source": [
    "%%time\n",
    "qq = pq.QRSE('AL', datanorm, iticks=10000)\n",
    "qq.fit(method='CG', use_jac=use_jac)\n",
    "# qq.res\n",
    "print(qq.res.success, qq.res.fun)\n",
    "\n",
    "\n",
    "qq3= pq.QRSE('S', datanorm, iticks=10000)\n",
    "qq3.fit(method='BFGS', use_jac=use_jac)\n",
    "\n",
    "print(qq3.res.success, qq3.res.fun)"
   ]
  },
  {
   "cell_type": "code",
   "execution_count": 71,
   "metadata": {},
   "outputs": [
    {
     "name": "stdout",
     "output_type": "stream",
     "text": [
      "False -11568.412438110994 -23103.832853415584\n",
      "False -11558.96310098962 -23093.18218487444\n",
      "False -11568.853494947758 -23096.466961387512\n"
     ]
    }
   ],
   "source": [
    "qqD = pq.QRSE('AL', data, iticks=10000)\n",
    "qqD.fit(method='CG', use_jac=use_jac)\n",
    "\n",
    "qq3D= pq.QRSE('S', data, iticks=10000)\n",
    "qq3D.fit(method='CG', use_jac=use_jac)\n",
    "\n",
    "qq00 = pq.QRSE('AB', data, iticks=10000)\n",
    "qq00.fit(method='BFGS', use_jac=use_jac)\n",
    "\n",
    "print(qqD.res.success, qqD.res.fun, qqD.bic)\n",
    "print(qq3D.res.success, qq3D.res.fun, qq3D.bic)\n",
    "print(qq00.res.success, qq00.res.fun, qq00.bic)"
   ]
  },
  {
   "cell_type": "code",
   "execution_count": 72,
   "metadata": {},
   "outputs": [
    {
     "data": {
      "image/png": "[encoded data removed]",
      "text/plain": [
       "<Figure size 864x288 with 2 Axes>"
      ]
     },
     "metadata": {},
     "output_type": "display_data"
    }
   ],
   "source": [
    "qqD.plotboth()"
   ]
  },
  {
   "cell_type": "code",
   "execution_count": 73,
   "metadata": {},
   "outputs": [
    {
     "name": "stdout",
     "output_type": "stream",
     "text": [
      "True 5013.22746051394\n"
     ]
    }
   ],
   "source": [
    "qq00 = QRSE('AB', datanorm, iticks=10000)\n",
    "qq00.fit(method='BFGS', use_jac=use_jac)\n",
    "# qq.res\n",
    "print(qq00.res.success, qq00.res.fun)"
   ]
  },
  {
   "cell_type": "code",
   "execution_count": 74,
   "metadata": {},
   "outputs": [
    {
     "data": {
      "image/png": "[encoded data removed]",
      "text/plain": [
       "<Figure size 864x288 with 2 Axes>"
      ]
     },
     "metadata": {},
     "output_type": "display_data"
    }
   ],
   "source": [
    "qq4.plotboth()"
   ]
  },
  {
   "cell_type": "code",
   "execution_count": 16,
   "metadata": {},
   "outputs": [
    {
     "data": {
      "text/plain": [
       "<module 'py3qrse.kernels' from '/Users/keithblackwell1/Documents/GoogStudy/py3qrse/py3qrse/kernels.py'>"
      ]
     },
     "execution_count": 16,
     "metadata": {},
     "output_type": "execute_result"
    }
   ],
   "source": [
    "reload(py3qrse.kernels)"
   ]
  },
  {
   "cell_type": "code",
   "execution_count": 17,
   "metadata": {},
   "outputs": [],
   "source": [
    "py3qrse.kernels.update_action_labels(['sell', 'buy'])"
   ]
  },
  {
   "cell_type": "code",
   "execution_count": 18,
   "metadata": {},
   "outputs": [
    {
     "data": {
      "text/plain": [
       "['sell', 'buy']"
      ]
     },
     "execution_count": 18,
     "metadata": {},
     "output_type": "execute_result"
    }
   ],
   "source": [
    "py3qrse.kernels.BINARY_BASE_ACTIONS"
   ]
  },
  {
   "cell_type": "code",
   "execution_count": 19,
   "metadata": {},
   "outputs": [
    {
     "data": {
      "text/plain": [
       "['buy', 'sell']"
      ]
     },
     "execution_count": 19,
     "metadata": {},
     "output_type": "execute_result"
    }
   ],
   "source": [
    "py3qrse.kernels.QRSEKernelBase().actions"
   ]
  },
  {
   "cell_type": "code",
   "execution_count": null,
   "metadata": {},
   "outputs": [],
   "source": []
  },
  {
   "cell_type": "code",
   "execution_count": 20,
   "metadata": {},
   "outputs": [
    {
     "data": {
      "text/plain": [
       "['buy', 'sell']"
      ]
     },
     "execution_count": 20,
     "metadata": {},
     "output_type": "execute_result"
    }
   ],
   "source": [
    "py3qrse.kernels.SQRSEKernel().actions"
   ]
  },
  {
   "cell_type": "code",
   "execution_count": 21,
   "metadata": {},
   "outputs": [
    {
     "data": {
      "text/plain": [
       "['buy', 'sell']"
      ]
     },
     "execution_count": 21,
     "metadata": {},
     "output_type": "execute_result"
    }
   ],
   "source": [
    "py3qrse.kernels.QRSEKernelBase.actions"
   ]
  },
  {
   "cell_type": "code",
   "execution_count": 22,
   "metadata": {},
   "outputs": [
    {
     "data": {
      "text/plain": [
       "0"
      ]
     },
     "execution_count": 22,
     "metadata": {},
     "output_type": "execute_result"
    }
   ],
   "source": [
    "1^1"
   ]
  },
  {
   "cell_type": "code",
   "execution_count": 37,
   "metadata": {},
   "outputs": [
    {
     "data": {
      "text/plain": [
       "1"
      ]
     },
     "execution_count": 37,
     "metadata": {},
     "output_type": "execute_result"
    }
   ],
   "source": [
    "1&1"
   ]
  },
  {
   "cell_type": "code",
   "execution_count": 45,
   "metadata": {},
   "outputs": [
    {
     "data": {
      "text/plain": [
       "0"
      ]
     },
     "execution_count": 45,
     "metadata": {},
     "output_type": "execute_result"
    }
   ],
   "source": [
    "1&0"
   ]
  },
  {
   "cell_type": "code",
   "execution_count": 46,
   "metadata": {},
   "outputs": [
    {
     "data": {
      "text/plain": [
       "0"
      ]
     },
     "execution_count": 46,
     "metadata": {},
     "output_type": "execute_result"
    }
   ],
   "source": [
    "0&1"
   ]
  },
  {
   "cell_type": "code",
   "execution_count": 47,
   "metadata": {},
   "outputs": [
    {
     "data": {
      "text/plain": [
       "0"
      ]
     },
     "execution_count": 47,
     "metadata": {},
     "output_type": "execute_result"
    }
   ],
   "source": [
    "1^1"
   ]
  },
  {
   "cell_type": "code",
   "execution_count": 48,
   "metadata": {},
   "outputs": [
    {
     "data": {
      "text/plain": [
       "1"
      ]
     },
     "execution_count": 48,
     "metadata": {},
     "output_type": "execute_result"
    }
   ],
   "source": [
    "1^0"
   ]
  },
  {
   "cell_type": "code",
   "execution_count": 49,
   "metadata": {},
   "outputs": [
    {
     "data": {
      "text/plain": [
       "1"
      ]
     },
     "execution_count": 49,
     "metadata": {},
     "output_type": "execute_result"
    }
   ],
   "source": [
    "0^1"
   ]
  },
  {
   "cell_type": "code",
   "execution_count": 50,
   "metadata": {},
   "outputs": [
    {
     "data": {
      "text/plain": [
       "0"
      ]
     },
     "execution_count": 50,
     "metadata": {},
     "output_type": "execute_result"
    }
   ],
   "source": [
    "0^0"
   ]
  },
  {
   "cell_type": "code",
   "execution_count": 51,
   "metadata": {},
   "outputs": [
    {
     "data": {
      "text/plain": [
       "7"
      ]
     },
     "execution_count": 51,
     "metadata": {},
     "output_type": "execute_result"
    }
   ],
   "source": [
    "len(bin(90))-2"
   ]
  },
  {
   "cell_type": "code",
   "execution_count": 54,
   "metadata": {},
   "outputs": [
    {
     "data": {
      "text/plain": [
       "2.718281828459045"
      ]
     },
     "execution_count": 54,
     "metadata": {},
     "output_type": "execute_result"
    }
   ],
   "source": [
    "np.exp(1)"
   ]
  },
  {
   "cell_type": "code",
   "execution_count": 69,
   "metadata": {},
   "outputs": [],
   "source": [
    "def entropy(x):\n",
    "    t=1\n",
    "    p = 1/(1+np.exp(-np.abs(x/t)))\n",
    "    return -p*np.log(p)-(1-p)*np.log(1-p)"
   ]
  },
  {
   "cell_type": "code",
   "execution_count": 70,
   "metadata": {},
   "outputs": [
    {
     "name": "stderr",
     "output_type": "stream",
     "text": [
      "/Users/keithblackwell1/anaconda3/lib/python3.7/site-packages/ipykernel_launcher.py:4: RuntimeWarning: divide by zero encountered in log\n",
      "  after removing the cwd from sys.path.\n",
      "/Users/keithblackwell1/anaconda3/lib/python3.7/site-packages/ipykernel_launcher.py:4: RuntimeWarning: invalid value encountered in double_scalars\n",
      "  after removing the cwd from sys.path.\n"
     ]
    },
    {
     "data": {
      "text/plain": [
       "nan"
      ]
     },
     "execution_count": 70,
     "metadata": {},
     "output_type": "execute_result"
    }
   ],
   "source": [
    "entropy(-1000)"
   ]
  },
  {
   "cell_type": "code",
   "execution_count": 84,
   "metadata": {},
   "outputs": [],
   "source": [
    "def entropy2(x):\n",
    "    t=1\n",
    "    v=-x/t\n",
    "    g=np.exp(v)\n",
    "    return -g*v/(1+g) + np.log(1+g)"
   ]
  },
  {
   "cell_type": "code",
   "execution_count": 91,
   "metadata": {},
   "outputs": [
    {
     "data": {
      "text/plain": [
       "2.9007676693252238e-12"
      ]
     },
     "execution_count": 91,
     "metadata": {},
     "output_type": "execute_result"
    }
   ],
   "source": [
    "entropy2(30)"
   ]
  },
  {
   "cell_type": "code",
   "execution_count": 92,
   "metadata": {},
   "outputs": [
    {
     "data": {
      "text/plain": [
       "2.8979995411933014e-12"
      ]
     },
     "execution_count": 92,
     "metadata": {},
     "output_type": "execute_result"
    }
   ],
   "source": [
    "entropy(30)"
   ]
  },
  {
   "cell_type": "code",
   "execution_count": 93,
   "metadata": {},
   "outputs": [],
   "source": [
    "def entropy3(x):\n",
    "    t=1\n",
    "    v=-x/t\n",
    "    g=np.exp(v)\n",
    "    p0 = 1/(1+g)\n",
    "    p1 = g/(1+g)\n",
    "    return -p1*np.log(p1) - p0*np.log(p0)"
   ]
  },
  {
   "cell_type": "code",
   "execution_count": 98,
   "metadata": {},
   "outputs": [
    {
     "name": "stderr",
     "output_type": "stream",
     "text": [
      "/Users/keithblackwell1/anaconda3/lib/python3.7/site-packages/ipykernel_launcher.py:7: RuntimeWarning: divide by zero encountered in log\n",
      "  import sys\n",
      "/Users/keithblackwell1/anaconda3/lib/python3.7/site-packages/ipykernel_launcher.py:7: RuntimeWarning: invalid value encountered in double_scalars\n",
      "  import sys\n"
     ]
    },
    {
     "data": {
      "text/plain": [
       "nan"
      ]
     },
     "execution_count": 98,
     "metadata": {},
     "output_type": "execute_result"
    }
   ],
   "source": [
    "entropy3(1000)"
   ]
  },
  {
   "cell_type": "code",
   "execution_count": 99,
   "metadata": {},
   "outputs": [
    {
     "data": {
      "text/plain": [
       "0.0"
      ]
     },
     "execution_count": 99,
     "metadata": {},
     "output_type": "execute_result"
    }
   ],
   "source": [
    "entropy2(1000)"
   ]
  },
  {
   "cell_type": "code",
   "execution_count": null,
   "metadata": {},
   "outputs": [],
   "source": []
  }
 ],
 "metadata": {
  "kernelspec": {
   "display_name": "Python 3",
   "language": "python",
   "name": "python3"
  },
  "language_info": {
   "codemirror_mode": {
    "name": "ipython",
    "version": 3
   },
   "file_extension": ".py",
   "mimetype": "text/x-python",
   "name": "python",
   "nbconvert_exporter": "python",
   "pygments_lexer": "ipython3",
   "version": "3.7.3"
  }
 },
 "nbformat": 4,
 "nbformat_minor": 2
}
